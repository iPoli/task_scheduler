{
 "cells": [
  {
   "cell_type": "code",
   "execution_count": 13,
   "metadata": {
    "collapsed": true
   },
   "outputs": [],
   "source": [
    "import numpy as np\n",
    "import matplotlib.pyplot as plt\n",
    "import pandas as pd\n",
    "import seaborn as sns\n",
    "from datetime import datetime"
   ]
  },
  {
   "cell_type": "code",
   "execution_count": 106,
   "metadata": {
    "collapsed": false
   },
   "outputs": [],
   "source": [
    "%matplotlib inline\n",
    "sns.set()\n",
    "sns.set_context(\"notebook\", font_scale=1.5, rc={\"lines.linewidth\": 2.5})\n",
    "plt.rcParams['figure.figsize'] = 16, 12"
   ]
  },
  {
   "cell_type": "code",
   "execution_count": 107,
   "metadata": {
    "collapsed": true
   },
   "outputs": [],
   "source": [
    "from scheduler.scheduler import ProbabilisticTaskScheduler, TaskScheduler, Task, Slot, LikelihoodEstimator, UniformDistribution, Time, DiscreteDistribution, BetaDistribution"
   ]
  },
  {
   "cell_type": "code",
   "execution_count": 135,
   "metadata": {
    "collapsed": false
   },
   "outputs": [],
   "source": [
    "CATEGORY_PRIORS = dict(wellness=UniformDistribution(Time(hours=14), Time(hours=20)),\n",
    "              learning=UniformDistribution(Time(hours=10), Time(hours=14)),\n",
    "              work=UniformDistribution(Time(hours=11), Time(hours=15)),\n",
    "              personal=UniformDistribution(Time(hours=8), Time(hours=22)),\n",
    "              fun=UniformDistribution(Time(hours=12), Time(hours=22)),\n",
    "              chores=UniformDistribution(Time(hours=16), Time(hours=22)))"
   ]
  },
  {
   "cell_type": "code",
   "execution_count": 136,
   "metadata": {
    "collapsed": true
   },
   "outputs": [],
   "source": [
    "for cat, dist in CATEGORY_PRIORS.items():\n",
    "    interval_starts = [s for s in range(0, 24 * 60, 15)]\n",
    "    freq = dict()\n",
    "    for s in interval_starts:\n",
    "        freq[s] = np.mean(BetaDistribution(np.random.randint(1, 100), np.random.randint(1, 50)).sample(1000))\n",
    "    d = DiscreteDistribution(freq, 15)\n",
    "    CATEGORY_PRIORS[cat] = d.joint(dist)"
   ]
  },
  {
   "cell_type": "code",
   "execution_count": 126,
   "metadata": {
    "collapsed": true
   },
   "outputs": [],
   "source": [
    "class TaskCategoryLikelihoodEstimator(LikelihoodEstimator):\n",
    "\n",
    "    def likelihood(self, task, priors):\n",
    "        if not task.category in priors:\n",
    "            return UniformDistribution(Time(hours=0), Time(hours=24))\n",
    "        return priors[task.category]"
   ]
  },
  {
   "cell_type": "code",
   "execution_count": 127,
   "metadata": {
    "collapsed": true
   },
   "outputs": [],
   "source": [
    "t1 = Task(\"Workout in the park\", \"wellness\", 60, Time(hours=11))\n",
    "t2 = Task(\"Read a book\", \"learning\", 30, Time(hours=10))\n",
    "scheduler = ProbabilisticTaskScheduler(TaskScheduler([t1, t2], 9, 16), TaskCategoryLikelihoodEstimator(CATEGORY_PRIORS))"
   ]
  },
  {
   "cell_type": "code",
   "execution_count": 128,
   "metadata": {
    "collapsed": false
   },
   "outputs": [],
   "source": [
    "task_list = []\n",
    "for t in scheduler.tasks:\n",
    "    task_list.append(dict(name=t.name, context=t.category, duration=t.duration))"
   ]
  },
  {
   "cell_type": "code",
   "execution_count": 129,
   "metadata": {
    "collapsed": false
   },
   "outputs": [
    {
     "data": {
      "text/html": [
       "<div>\n",
       "<table border=\"1\" class=\"dataframe\">\n",
       "  <thead>\n",
       "    <tr style=\"text-align: right;\">\n",
       "      <th></th>\n",
       "      <th>context</th>\n",
       "      <th>duration</th>\n",
       "      <th>name</th>\n",
       "    </tr>\n",
       "  </thead>\n",
       "  <tbody>\n",
       "    <tr>\n",
       "      <th>0</th>\n",
       "      <td>wellness</td>\n",
       "      <td>60</td>\n",
       "      <td>Workout in the park</td>\n",
       "    </tr>\n",
       "    <tr>\n",
       "      <th>1</th>\n",
       "      <td>learning</td>\n",
       "      <td>30</td>\n",
       "      <td>Read a book</td>\n",
       "    </tr>\n",
       "  </tbody>\n",
       "</table>\n",
       "</div>"
      ],
      "text/plain": [
       "    context  duration                 name\n",
       "0  wellness        60  Workout in the park\n",
       "1  learning        30          Read a book"
      ]
     },
     "execution_count": 129,
     "metadata": {},
     "output_type": "execute_result"
    }
   ],
   "source": [
    "df = pd.DataFrame.from_dict(task_list)\n",
    "df.head()"
   ]
  },
  {
   "cell_type": "code",
   "execution_count": 130,
   "metadata": {
    "collapsed": false
   },
   "outputs": [],
   "source": [
    "dummies = pd.get_dummies(df['context']).rename(columns=lambda x: 'context_' + str(x))\n",
    "df = pd.concat([df, dummies], axis=1)\n",
    "df.drop(['context'], inplace=True, axis=1)"
   ]
  },
  {
   "cell_type": "code",
   "execution_count": 131,
   "metadata": {
    "collapsed": false
   },
   "outputs": [
    {
     "data": {
      "text/html": [
       "<div>\n",
       "<table border=\"1\" class=\"dataframe\">\n",
       "  <thead>\n",
       "    <tr style=\"text-align: right;\">\n",
       "      <th></th>\n",
       "      <th>duration</th>\n",
       "      <th>name</th>\n",
       "      <th>context_learning</th>\n",
       "      <th>context_wellness</th>\n",
       "    </tr>\n",
       "  </thead>\n",
       "  <tbody>\n",
       "    <tr>\n",
       "      <th>0</th>\n",
       "      <td>60</td>\n",
       "      <td>Workout in the park</td>\n",
       "      <td>0</td>\n",
       "      <td>1</td>\n",
       "    </tr>\n",
       "    <tr>\n",
       "      <th>1</th>\n",
       "      <td>30</td>\n",
       "      <td>Read a book</td>\n",
       "      <td>1</td>\n",
       "      <td>0</td>\n",
       "    </tr>\n",
       "  </tbody>\n",
       "</table>\n",
       "</div>"
      ],
      "text/plain": [
       "   duration                 name  context_learning  context_wellness\n",
       "0        60  Workout in the park                 0                 1\n",
       "1        30          Read a book                 1                 0"
      ]
     },
     "execution_count": 131,
     "metadata": {},
     "output_type": "execute_result"
    }
   ],
   "source": [
    "df.head()"
   ]
  },
  {
   "cell_type": "code",
   "execution_count": 132,
   "metadata": {
    "collapsed": false
   },
   "outputs": [],
   "source": [
    "t3 = Task(\"Meditate\", \"wellness\", 15)\n",
    "slots = scheduler.propose_slots(t3)"
   ]
  },
  {
   "cell_type": "code",
   "execution_count": 133,
   "metadata": {
    "collapsed": false
   },
   "outputs": [],
   "source": [
    "probs = {s[1].start_minute: s[0] for s in slots}"
   ]
  },
  {
   "cell_type": "code",
   "execution_count": 134,
   "metadata": {
    "collapsed": false
   },
   "outputs": [
    {
     "data": {
      "text/plain": [
       "<seaborn.axisgrid.FacetGrid at 0x119b15b00>"
      ]
     },
     "execution_count": 134,
     "metadata": {},
     "output_type": "execute_result"
    },
    {
     "data": {
      "image/png": "[encoded data removed]",
      "text/plain": [
       "<matplotlib.figure.Figure at 0x119952b00>"
      ]
     },
     "metadata": {},
     "output_type": "display_data"
    }
   ],
   "source": [
    "data = pd.DataFrame(list(probs.items()), columns=[\"start_minute\", \"density\"])\n",
    "sns.lmplot(\"start_minute\", \"density\", data, fit_reg=False, size=8, aspect=2)"
   ]
  },
  {
   "cell_type": "code",
   "execution_count": 118,
   "metadata": {
    "collapsed": false
   },
   "outputs": [],
   "source": [
    "interval_starts = [s for s in range(0, 24 * 60, 15)]\n",
    "freq = dict()\n",
    "for s in interval_starts:\n",
    "    freq[s] = np.mean(BetaDistribution(np.random.randint(1, 100), np.random.randint(1, 50)).sample(1000))"
   ]
  },
  {
   "cell_type": "code",
   "execution_count": 119,
   "metadata": {
    "collapsed": true
   },
   "outputs": [],
   "source": [
    "d = DiscreteDistribution(freq, 15)"
   ]
  },
  {
   "cell_type": "code",
   "execution_count": 120,
   "metadata": {
    "collapsed": false
   },
   "outputs": [
    {
     "data": {
      "text/plain": [
       "<Container object of 96 artists>"
      ]
     },
     "execution_count": 120,
     "metadata": {},
     "output_type": "execute_result"
    },
    {
     "data": {
      "image/png": "[encoded data removed]",
      "text/plain": [
       "<matplotlib.figure.Figure at 0x118da9320>"
      ]
     },
     "metadata": {},
     "output_type": "display_data"
    }
   ],
   "source": [
    "plt.bar(range(len(freq.values())), [v for k, v in sorted(freq.items())])"
   ]
  }
 ],
 "metadata": {
  "kernelspec": {
   "display_name": "Python 3",
   "language": "python",
   "name": "python3"
  },
  "language_info": {
   "codemirror_mode": {
    "name": "ipython",
    "version": 3
   },
   "file_extension": ".py",
   "mimetype": "text/x-python",
   "name": "python",
   "nbconvert_exporter": "python",
   "pygments_lexer": "ipython3",
   "version": "3.5.1"
  }
 },
 "nbformat": 4,
 "nbformat_minor": 0
}
